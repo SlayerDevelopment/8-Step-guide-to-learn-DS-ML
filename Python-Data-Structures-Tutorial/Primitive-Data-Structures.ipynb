{
 "cells": [
  {
   "cell_type": "code",
   "execution_count": 1,
   "metadata": {},
   "outputs": [
    {
     "name": "stdout",
     "output_type": "stream",
     "text": [
      "15\n",
      "9\n",
      "36\n",
      "4.0\n",
      "0\n",
      "12\n",
      "1728\n"
     ]
    }
   ],
   "source": [
    "#Integers\n",
    "x = 12\n",
    "y = 3\n",
    "\n",
    "#Addition\n",
    "print(x + y)\n",
    "\n",
    "#Subtraction\n",
    "print(x - y)\n",
    "\n",
    "#Multiplication\n",
    "print(x * y)\n",
    "\n",
    "#Return the quotient\n",
    "print(x / y)\n",
    "\n",
    "#Return the remainder\n",
    "print(x % y)\n",
    "\n",
    "#Absolute value\n",
    "print(abs(x))\n",
    "\n",
    "#x to the power y\n",
    "print(x ** y)"
   ]
  },
  {
   "cell_type": "markdown",
   "metadata": {},
   "source": [
    "As you can see the quotient of a division is a float number while in the other operation remains integer"
   ]
  },
  {
   "cell_type": "code",
   "execution_count": 11,
   "metadata": {},
   "outputs": [
    {
     "name": "stdout",
     "output_type": "stream",
     "text": [
      "Result of adding 20.5 and 8.0 : 28.5\n",
      "Result of subtracting 20.5 and 8.0 : 12.5\n",
      "Result of multipliying 20.5 and 8.0 : 164.0\n",
      "Quotient of dividing 20.5 between 8.0 : 2.5625\n",
      "Remainder of dividing 20.5 between 8.0 : 2.5625\n",
      "Absolute value of 8.0 is: 8.0\n",
      "Absolute value of 20.5 is: 20.5\n",
      "20.5 to the power 8.0 : 31191114176.253906\n"
     ]
    }
   ],
   "source": [
    "#Floating numbers\n",
    "m = 20.5\n",
    "n = 8.0\n",
    "\n",
    "#Addition\n",
    "print('Result of adding ' + str(m) + ' and ' + str(n) + ' : ' + str((m + n)))\n",
    "\n",
    "#Subtraction\n",
    "print('Result of subtracting ' + str(m) + ' and ' + str(n) + ' : ' + str((m - n)))\n",
    "\n",
    "#Multiplication\n",
    "print('Result of multipliying ' + str(m) + ' and ' + str(n) + ' : ' + str((m * n)))\n",
    "\n",
    "#Return the quotient\n",
    "print('Quotient of dividing ' + str(m) + ' between ' + str(n) + ' : ' + str((m / n)))\n",
    "\n",
    "#Return the remainder\n",
    "print('Remainder of dividing ' + str(m) + ' between ' + str(n) + ' : ' + str((m / n)))\n",
    "\n",
    "#Absolute value of n\n",
    "print('Absolute value of ' + str(n) + ' is: ' + str(abs(n)))\n",
    "\n",
    "#Absolute value of m\n",
    "print('Absolute value of ' + str(m) + ' is: ' + str(abs(m)))\n",
    "\n",
    "#m to the power n\n",
    "print(str(m) + ' to the power ' + str(n) + ' : ' + str((m ** n)))"
   ]
  },
  {
   "cell_type": "code",
   "execution_count": null,
   "metadata": {},
   "outputs": [],
   "source": []
  }
 ],
 "metadata": {
  "kernelspec": {
   "display_name": "Python 3",
   "language": "python",
   "name": "python3"
  },
  "language_info": {
   "codemirror_mode": {
    "name": "ipython",
    "version": 3
   },
   "file_extension": ".py",
   "mimetype": "text/x-python",
   "name": "python",
   "nbconvert_exporter": "python",
   "pygments_lexer": "ipython3",
   "version": "3.6.5"
  }
 },
 "nbformat": 4,
 "nbformat_minor": 2
}
